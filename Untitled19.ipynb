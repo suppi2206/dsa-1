{
 "cells": [
  {
   "cell_type": "code",
   "execution_count": 1,
   "id": "d2227b31",
   "metadata": {},
   "outputs": [
    {
     "name": "stdout",
     "output_type": "stream",
     "text": [
      "[1, 2, 3, 4, 5, 6]\n",
      "Reversed list is\n",
      "[6, 5, 4, 3, 2, 1]\n"
     ]
    }
   ],
   "source": [
    "\n",
    "#Write a program to reverse an array in place? In place means you cannot create a new array. You have to update the original array.\n",
    "\n",
    "def reverseList(A, start, end):\n",
    "    while start < end:\n",
    "        A[start], A[end] = A[end], A[start]\n",
    "        start += 1\n",
    "        end -= 1\n",
    " \n",
    "\n",
    "A = [1, 2, 3, 4, 5, 6]\n",
    "print(A)\n",
    "reverseList(A, 0, 5)\n",
    "print(\"Reversed list is\")\n",
    "print(A)"
   ]
  },
  {
   "cell_type": "code",
   "execution_count": 6,
   "id": "9f5bfc45",
   "metadata": {},
   "outputs": [
    {
     "name": "stdout",
     "output_type": "stream",
     "text": [
      "Strings are rotations of each other\n"
     ]
    }
   ],
   "source": [
    "#Write a program to check if two strings are a rotation of each other?\n",
    "\n",
    "\n",
    "def check_rotation(s, goal):\n",
    " \n",
    "    if (len(s) != len(goal)):\n",
    "        skip\n",
    " \n",
    "    q1 = []\n",
    "    for i in range(len(s)):\n",
    "        q1.insert(0, s[i])\n",
    " \n",
    "    q2 = []\n",
    "    for i in range(len(goal)):\n",
    "        q2.insert(0, goal[i])\n",
    " \n",
    "    k = len(goal)\n",
    "    while (k > 0):\n",
    "        ch = q2[0]\n",
    "        q2.pop(0)\n",
    "        q2.append(ch)\n",
    "        if (q2 == q1):\n",
    "            return True\n",
    " \n",
    "        k -= 1\n",
    " \n",
    "    return False\n",
    "if __name__ == \"__main__\":\n",
    " \n",
    "    string1 = \"AACD\"\n",
    "    string2 = \"ACDA\"\n",
    " \n",
    "    # Function call\n",
    "    if check_rotation(string1, string2):\n",
    "        print(\"Strings are rotations of each other\")\n",
    "    else:\n",
    "        print(\"Strings are not rotations of each other\")\n",
    " \n"
   ]
  },
  {
   "cell_type": "code",
   "execution_count": 15,
   "id": "353d058b",
   "metadata": {},
   "outputs": [
    {
     "name": "stdout",
     "output_type": "stream",
     "text": [
      "Please enter the elements to push: 7 3 5 6\n"
     ]
    },
    {
     "ename": "NameError",
     "evalue": "name 's' is not defined",
     "output_type": "error",
     "traceback": [
      "\u001b[1;31m---------------------------------------------------------------------------\u001b[0m",
      "\u001b[1;31mNameError\u001b[0m                                 Traceback (most recent call last)",
      "Input \u001b[1;32mIn [15]\u001b[0m, in \u001b[0;36m<cell line: 31>\u001b[1;34m()\u001b[0m\n\u001b[0;32m     30\u001b[0m data_list \u001b[38;5;241m=\u001b[39m \u001b[38;5;28minput\u001b[39m(\u001b[38;5;124m'\u001b[39m\u001b[38;5;124mPlease enter the elements to push: \u001b[39m\u001b[38;5;124m'\u001b[39m)\u001b[38;5;241m.\u001b[39msplit()\n\u001b[0;32m     31\u001b[0m \u001b[38;5;28;01mfor\u001b[39;00m data \u001b[38;5;129;01min\u001b[39;00m data_list:\n\u001b[1;32m---> 32\u001b[0m     \u001b[43ms\u001b[49m\u001b[38;5;241m.\u001b[39mpush(\u001b[38;5;28mint\u001b[39m(data))\n\u001b[0;32m     34\u001b[0m \u001b[38;5;28mprint\u001b[39m(\u001b[38;5;124m'\u001b[39m\u001b[38;5;124mThe stack:\u001b[39m\u001b[38;5;124m'\u001b[39m)\n\u001b[0;32m     35\u001b[0m s\u001b[38;5;241m.\u001b[39mdisplay()\n",
      "\u001b[1;31mNameError\u001b[0m: name 's' is not defined"
     ]
    }
   ],
   "source": [
    "class Stack:\n",
    "    def __init__(self):\n",
    "        self.items = []\n",
    " \n",
    "    def is_empty(self):\n",
    "        return self.items == []\n",
    " \n",
    "    def push(self, data):\n",
    "        self.items.append(data)\n",
    " \n",
    "    def pop(self):\n",
    "        return self.items.pop()\n",
    " \n",
    "    def display(self):\n",
    "        for data in reversed(self.items):\n",
    "            print(data)\n",
    "def insert_at_bottom(s, data):\n",
    "    if s.is_empty():\n",
    "        s.push(data)\n",
    "    else:\n",
    "        popped = s.pop()\n",
    "        insert_at_bottom(s, data)\n",
    "        s.push(popped)\n",
    "def reverse_stack(s):\n",
    "    if not s.is_empty():\n",
    "        popped = s.pop()\n",
    "        reverse_stack(s)\n",
    "        insert_at_bottom(s, popped)\n",
    "        s = Stack()\n",
    "data_list = input('Please enter the elements to push: ').split()\n",
    "for data in data_list:\n",
    "    s.push(int(data))\n",
    " \n",
    "print('The stack:')\n",
    "s.display()\n",
    "reverse_stack(s)\n",
    "print('After reversing:')\n",
    "s.display()"
   ]
  },
  {
   "cell_type": "code",
   "execution_count": 3,
   "id": "64808a94",
   "metadata": {},
   "outputs": [
    {
     "name": "stdout",
     "output_type": "stream",
     "text": [
      "enter a string:priya\n",
      "the fiest non-repeating character is p\n"
     ]
    }
   ],
   "source": [
    "#Write a program to print the first non-repeated character from a string?\n",
    "a=input(\"enter a string:\")\n",
    "d={}\n",
    "for i in a:\n",
    "    if i in d:\n",
    "        d[i]+=1\n",
    "    else:\n",
    "        d[i]=1\n",
    "for i in a:\n",
    "    if d[i]==1:\n",
    "        print('the fiest non-repeating character is',i)\n",
    "        break\n",
    "            \n"
   ]
  },
  {
   "cell_type": "code",
   "execution_count": 9,
   "id": "20bd54d5",
   "metadata": {},
   "outputs": [
    {
     "name": "stdout",
     "output_type": "stream",
     "text": [
      "move disk 1 from source A to destination B\n",
      "move disk 2 from source A to destination c\n",
      "move disk 1 from source B to destination c\n",
      "move disk 3 from source A to destination B\n",
      "move disk 1 from source c to destination A\n",
      "move disk 2 from source c to destination B\n",
      "move disk 1 from source A to destination B\n",
      "move disk 4 from source A to destination c\n",
      "move disk 1 from source B to destination c\n",
      "move disk 2 from source B to destination A\n",
      "move disk 1 from source c to destination A\n",
      "move disk 3 from source B to destination c\n",
      "move disk 1 from source A to destination B\n",
      "move disk 2 from source A to destination c\n",
      "move disk 1 from source B to destination c\n"
     ]
    }
   ],
   "source": [
    "#Read about the Tower of Hanoi algorithm. Write a program to implement\n",
    "def tower_of_hanoi(num_disks,source,auxiliary,destination):\n",
    "    if num_disks==1:\n",
    "        print(\"move disk 1 from source\",source,\"to destination\",destination)\n",
    "        return\n",
    "    tower_of_hanoi(num_disks-1,source,destination,auxiliary)\n",
    "    print(\"move disk\",num_disks,\"from source\",source,\"to destination\",destination)\n",
    "    tower_of_hanoi(num_disks-1,auxiliary,source,destination)\n",
    "    \n",
    "num_disks=4\n",
    "tower_of_hanoi(num_disks,'A','B','c')"
   ]
  },
  {
   "cell_type": "code",
   "execution_count": 10,
   "id": "86aaa65b",
   "metadata": {},
   "outputs": [
    {
     "name": "stdout",
     "output_type": "stream",
     "text": [
      "L\n"
     ]
    }
   ],
   "source": [
    "#Write a program to convert prefix expression to infix expression.\n",
    "def prefix_to_infix(expression):\n",
    "    stack=[]\n",
    "    for char in expression[::-1]:\n",
    "        if char.isalpha():\n",
    "            stack.append(char)\n",
    "        else:\n",
    "            a=stack.pop()\n",
    "            b=stack.pop()\n",
    "            stack.append('(' +a +char + b +')')\n",
    "        return stack.pop()\n",
    "prefix='*-A/Bc-/AkL'\n",
    "infix =prefix_to_infix(prefix)\n",
    "print(infix)"
   ]
  },
  {
   "cell_type": "code",
   "execution_count": 15,
   "id": "ab8989d4",
   "metadata": {},
   "outputs": [
    {
     "ename": "IndentationError",
     "evalue": "unexpected indent (3739510309.py, line 12)",
     "output_type": "error",
     "traceback": [
      "\u001b[1;36m  Input \u001b[1;32mIn [15]\u001b[1;36m\u001b[0m\n\u001b[1;33m    insert_at_Bottom(stack, temp)\u001b[0m\n\u001b[1;37m    ^\u001b[0m\n\u001b[1;31mIndentationError\u001b[0m\u001b[1;31m:\u001b[0m unexpected indent\n"
     ]
    }
   ],
   "source": [
    "def insert_at_Bottom(stack, item):\n",
    "    if isEmpty(stack):\n",
    "        push(stack, item)\n",
    "    else:\n",
    "        temp = pop(stack)\n",
    "        insert_at_Bottom(stack, item)\n",
    "        push(stack, temp)\n",
    "def reverse(stack):\n",
    "    if not isEmpty(stack):\n",
    "        temp = pop(stack)\n",
    "    reverse(stack)\n",
    "        insert_at_Bottom(stack, temp)\n",
    "        def createStack():\n",
    "    stack = []\n",
    "    return stack\n",
    "def isEmpty(stack):\n",
    "    return len(stack) == 0\n",
    "def push(stack, item):\n",
    "    stack.append(item)\n",
    "def pop(stack):\n",
    " \n",
    "    # If stack is empty\n",
    "    # then error\n",
    "    if(isEmpty(stack)):\n",
    "        print(\"Stack Underflow \")\n",
    "        exit(1)\n",
    " \n",
    "    return stack.pop()\n",
    " \n",
    "# Function to print the stack\n",
    " \n",
    "def prints(stack):\n",
    "    for i in range(len(stack)-1, -1, -1):\n",
    "        print(stack[i], end=' ')\n",
    "    print()\n",
    "    stack = createStack()\n",
    "push(stack, str(4))\n",
    "push(stack, str(3))\n",
    "push(stack, str(2))\n",
    "push(stack, str(1))\n",
    "print(\"Original Stack \")\n",
    "prints(stack)\n",
    " \n",
    "reverse(stack)\n",
    " \n",
    "print(\"Reversed Stack \")\n",
    "\n",
    "prints(stack)\n",
    " \n",
    " "
   ]
  },
  {
   "cell_type": "code",
   "execution_count": 19,
   "id": "ba66813d",
   "metadata": {},
   "outputs": [
    {
     "name": "stdout",
     "output_type": "stream",
     "text": [
      "the smallest number is 50\n",
      "the smallest number is 50\n",
      "the smallest number is 50\n",
      "the smallest number is 50\n"
     ]
    }
   ],
   "source": [
    "# Write a program to find the smallest number using a stack.\n",
    "\n",
    "\n",
    "class stack:\n",
    "    def __init__(self):\n",
    "        self.items=[]\n",
    "    def isempty(self):\n",
    "        return self.items==[]\n",
    "    def push(self,item):\n",
    "        self.items.append(item)\n",
    "    def pop(self):\n",
    "        return self.items.pop()\n",
    "    def peek(self):\n",
    "        return self.items[len(self.items)-1]\n",
    "    def size(self):\n",
    "        return len(self.items) \n",
    "stack=stack()\n",
    "stack.push(10)\n",
    "stack.push(20)\n",
    "stack.push(30)\n",
    "stack.push(40)\n",
    "stack.push(50)\n",
    "min_num=stack.peek()\n",
    "while not stack.isempty():\n",
    "    num=stack.pop()\n",
    "    if num<min_num:\n",
    "        print(\"the smallest number is\",min_num)\n"
   ]
  },
  {
   "cell_type": "code",
   "execution_count": null,
   "id": "a71cfedd",
   "metadata": {},
   "outputs": [],
   "source": []
  }
 ],
 "metadata": {
  "kernelspec": {
   "display_name": "Python 3 (ipykernel)",
   "language": "python",
   "name": "python3"
  },
  "language_info": {
   "codemirror_mode": {
    "name": "ipython",
    "version": 3
   },
   "file_extension": ".py",
   "mimetype": "text/x-python",
   "name": "python",
   "nbconvert_exporter": "python",
   "pygments_lexer": "ipython3",
   "version": "3.10.6"
  }
 },
 "nbformat": 4,
 "nbformat_minor": 5
}
